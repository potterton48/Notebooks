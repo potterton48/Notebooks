{
  "nbformat": 4,
  "nbformat_minor": 0,
  "metadata": {
    "colab": {
      "provenance": [],
      "include_colab_link": true
    },
    "kernelspec": {
      "name": "python3",
      "display_name": "Python 3"
    },
    "language_info": {
      "name": "python"
    }
  },
  "cells": [
    {
      "cell_type": "markdown",
      "metadata": {
        "id": "view-in-github",
        "colab_type": "text"
      },
      "source": [
        "<a href=\"https://colab.research.google.com/github/potterton48/Notebooks/blob/main/TPD_Workshop2_Ternary_Structure_Property_Analysis.ipynb\" target=\"_parent\"><img src=\"https://colab.research.google.com/assets/colab-badge.svg\" alt=\"Open In Colab\"/></a>"
      ]
    },
    {
      "cell_type": "markdown",
      "source": [
        "# Workshop 2: Ternary Structure Property Analysis\n",
        "\n",
        "The idea of this workshop is to calculate properties of molecular glue/bifunctional ternary complexes from the PDB.\n",
        "\n",
        "We will do this in 4 steps (of increasing difficulty).:\n",
        "1. Rerun the existing code to calculate interface surface area of a molecular glue interface (7LPS - CRBN-IKZF2).\n",
        "2. Add some code to calculate surface area without the molecular glue (purely protein-protein interface area).\n",
        "3. Rerun code on your own protein of interest.\n",
        "4. (Extension) Calculate more properties (such as hydrogen bond count) using your own code.\n",
        "\n",
        "Before we start, we need to install a few python packages: Biopython for analysing PDB structures and py3Dmol for visualising them."
      ],
      "metadata": {
        "id": "nWhECev2CJVD"
      }
    },
    {
      "cell_type": "code",
      "execution_count": null,
      "metadata": {
        "collapsed": true,
        "id": "25Tl0IBTccUi"
      },
      "outputs": [],
      "source": [
        "# Package Installation\n",
        "!pip install biopython\n",
        "!pip install py3Dmol"
      ]
    },
    {
      "cell_type": "markdown",
      "source": [
        "Import the relevant python packages and functions."
      ],
      "metadata": {
        "id": "UZ1IP8RgCZ73"
      }
    },
    {
      "cell_type": "code",
      "source": [
        "# Package imports\n",
        "import warnings\n",
        "\n",
        "import py3Dmol\n",
        "from Bio.PDB import PDBParser, PDBList, Structure, Select, PDBIO, Chain\n",
        "from Bio.PDB.SASA import ShrakeRupley\n",
        "from Bio.PDB.PDBExceptions import PDBConstructionWarning\n",
        "\n",
        "# enable py3Dmol in colab notebook\n",
        "from google.colab import output\n",
        "output.enable_custom_widget_manager()"
      ],
      "metadata": {
        "id": "5VeOmy9zgxMe"
      },
      "execution_count": null,
      "outputs": []
    },
    {
      "cell_type": "markdown",
      "source": [
        "We will now download a crystallograhic structure (PDBID 7LPS) of a protein-protein complex (CRBN-IKZF2) strengthened by a molecular glue."
      ],
      "metadata": {
        "id": "UaH0zeNfCi6g"
      }
    },
    {
      "cell_type": "code",
      "source": [
        "# Download PDBs\n",
        "pdb_id = '7LPS'\n",
        "pdbl = PDBList()\n",
        "fname = pdbl.retrieve_pdb_file(pdb_id, file_format='pdb')"
      ],
      "metadata": {
        "id": "tjXDklOxhGx3"
      },
      "execution_count": null,
      "outputs": []
    },
    {
      "cell_type": "markdown",
      "source": [
        "Load this structure as a Biopython structure."
      ],
      "metadata": {
        "id": "bD2VLlsWEgYK"
      }
    },
    {
      "cell_type": "code",
      "source": [
        "# load pdb\n",
        "def read_structure(fname: str) -> Structure:\n",
        "    \"\"\" Reads PDB file and returns biopython structure object\n",
        "    Args:\n",
        "        fname: path and filename of pdb file\n",
        "    Returns:\n",
        "        Biopython structure object\n",
        "    \"\"\"\n",
        "    parser = PDBParser()\n",
        "    # silence irrelevant warnings\n",
        "    warnings.simplefilter(\"ignore\", PDBConstructionWarning)\n",
        "    return parser.get_structure(\"struc\", fname)\n",
        "\n",
        "structure = read_structure(fname)"
      ],
      "metadata": {
        "id": "rFNCZUmuhJ_K"
      },
      "execution_count": null,
      "outputs": []
    },
    {
      "cell_type": "markdown",
      "source": [
        "We can visualise the 3D structure using py3Dmol"
      ],
      "metadata": {
        "id": "Xc8ia6lAOWOx"
      }
    },
    {
      "cell_type": "code",
      "source": [
        "def visualise_protein(fname: str, structure: Structure, ligand_resname: str) -> None:\n",
        "    \"\"\" Get a 3D visualisation of the protein with the protein as cartoon (coloured by chain) and ligand as orange sticks\n",
        "    Args:\n",
        "        fname: filename of the protein viewed\n",
        "        structure: biopython structure object\n",
        "        ligand resname: technically can be left as a blank string. 3 letter HET resname to visualise as stick.\n",
        "    \"\"\"\n",
        "    viewer = py3Dmol.view(width=1000, height=800)\n",
        "    with open(fname) as ifile:\n",
        "        system = \"\".join([x for x in ifile])\n",
        "    viewer.addModelsAsFrames(system)\n",
        "    viewer.setBackgroundColor('white')\n",
        "    colours = [\n",
        "    \"#FF5733\", \"#33FF57\", \"#3357FF\", \"#F0A202\", \"#029FAD\", \"#9C33FF\", \"#FF33A8\", \"#33FFD7\", \"#FFB533\", \"#FF5733\",\n",
        "    \"#73FF33\", \"#3333FF\", \"#FFD700\", \"#FF4500\", \"#DA70D6\", \"#ADFF2F\", \"#7FFF00\", \"#6495ED\", \"#8A2BE2\", \"#FF69B4\",\n",
        "    \"#FFDAB9\", \"#40E0D0\", \"#FF6347\", \"#F08080\", \"#9370DB\", \"#4169E1\", \"#D2691E\", \"#20B2AA\", \"#708090\", \"#FF1493\",\n",
        "    \"#228B22\"\n",
        "    ]\n",
        "\n",
        "    for idx, chain in enumerate(structure.get_chains()):\n",
        "        chain_id = chain.id\n",
        "        chain_colour = colours[idx]\n",
        "        viewer.setStyle({'chain': chain_id}, {'cartoon': {'color': chain_colour}})\n",
        "        viewer.addLabel(chain_id, {'fontColor': 'black', 'backgroundColor': 'lightgray'}, {'chain': chain_id})\n",
        "\n",
        "    # colour the molecular glue/PROTAC and select by distance to the glue\n",
        "    selection = {'resn': ligand_resname, 'byres': 'true', 'expand': 2}  # 2 ang, so anything covalently bound to it\n",
        "    # set styles\n",
        "    viewer.setStyle(selection,{'stick': {'colorscheme': 'orangeCarbon'}})\n",
        "\n",
        "    viewer.zoomTo()\n",
        "    viewer.animate({'loop': \"forward\"})\n",
        "    viewer.show()\n",
        "\n",
        "visualise_protein(fname, structure, ligand_resname='RN9')"
      ],
      "metadata": {
        "id": "KJc_O_V9KSFE"
      },
      "execution_count": null,
      "outputs": []
    },
    {
      "cell_type": "markdown",
      "source": [
        "**A few of the chains are not on the molecular glue induced PPI. From the rendering above, decide which chains to keep**"
      ],
      "metadata": {
        "id": "xynBUmTDGBvp"
      }
    },
    {
      "cell_type": "code",
      "source": [
        "def write_pdb(struct: Structure, pdb_fname: str, select_class: classmethod | None) -> None:\n",
        "    \"\"\"\n",
        "    Writes a PDB file from a Biopython Structure object\n",
        "\n",
        "    Args:\n",
        "        select_class: Biopython select class, which will be used to modify saved output\n",
        "        struct (Bio.PDB.Structure): input Biopython Structure object\n",
        "        pdb_fname (str): path to the output PDB file\n",
        "    \"\"\"\n",
        "    io = PDBIO()\n",
        "    io.set_structure(struct)\n",
        "    if select_class:\n",
        "        io.save(pdb_fname, select=select_class)\n",
        "    else:\n",
        "        io.save(pdb_fname)\n",
        "\n",
        "\n",
        "class ChainSelect(Select):\n",
        "    def __init__(self, selected_chains: list[str]):\n",
        "        self.selected_chains = selected_chains\n",
        "\n",
        "    def accept_chain(self, chain):\n",
        "        if chain.id in self.selected_chains:\n",
        "            return 1\n",
        "        else:\n",
        "            return 0\n",
        "\n",
        "def chain_remover(structure: Structure, chains_to_keep: list[str]) -> str:\n",
        "    \"\"\"\n",
        "\n",
        "    \"\"\"\n",
        "    chain_saver = ChainSelect(selected_chains=chains_to_keep)\n",
        "    filename = f'{pdb_id}_selected_chains_{\"\".join(chains_to_keep)}.pdb'\n",
        "    write_pdb(\n",
        "        struct=structure, pdb_fname=filename,\n",
        "        select_class=chain_saver,\n",
        "    )\n",
        "    return filename\n",
        "\n",
        "chain_ids_to_keep = ['B', 'C']\n",
        "selected_structure_fname = chain_remover(structure, chain_ids_to_keep)\n",
        "selected_structure = read_structure(selected_structure_fname)"
      ],
      "metadata": {
        "id": "tP8Dq6_hhsqP"
      },
      "execution_count": null,
      "outputs": []
    },
    {
      "cell_type": "markdown",
      "source": [
        "**Now when looking at the protein, you can see they are only two chains present.**"
      ],
      "metadata": {
        "id": "DGga-9woFEnx"
      }
    },
    {
      "cell_type": "code",
      "source": [
        "visualise_protein(selected_structure_fname, selected_structure, 'RN9')"
      ],
      "metadata": {
        "id": "PXKJhaKdr_r7"
      },
      "execution_count": null,
      "outputs": []
    },
    {
      "cell_type": "markdown",
      "source": [
        "**We can remove water molecules from the structure.**"
      ],
      "metadata": {
        "id": "H2drCT7lFSTq"
      }
    },
    {
      "cell_type": "code",
      "source": [
        "class ResidueRemover(Select):\n",
        "    def __init__(self, selected_resnames: list[str]):\n",
        "        self.selected_resnames = selected_resnames\n",
        "\n",
        "    def accept_residue(self, residue):\n",
        "        if residue.get_resname() in self.selected_resnames:\n",
        "            return 0\n",
        "        else:\n",
        "            return 1\n",
        "\n",
        "def remove_residues(structure: Structure, residues_to_delete: list[str]) -> str:\n",
        "    \"\"\" Removes specified residues (by residue names) and creates a new PDB file without those residues.\n",
        "    Args:\n",
        "        structure: Input Biopython Structure Object\n",
        "        residues_to_delete: List of residue name strings to delete. E.g. ['HOH', 'CLR']\n",
        "    Returns:\n",
        "        Name of PDB file without specified residues.\n",
        "    \"\"\"\n",
        "    residue_remover = ResidueRemover(selected_resnames=residues_to_delete)\n",
        "    filename = f'{pdb_id}_removed_{\"\".join(residues_to_delete)}.pdb'\n",
        "    write_pdb(\n",
        "        struct=structure, pdb_fname=filename,\n",
        "        select_class=residue_remover,\n",
        "    )\n",
        "    return filename\n",
        "\n",
        "no_water_fname = remove_residues(selected_structure, 'HOH')\n",
        "no_water_structure = read_structure(no_water_fname)"
      ],
      "metadata": {
        "id": "0sii48AAhstF"
      },
      "execution_count": null,
      "outputs": []
    },
    {
      "cell_type": "markdown",
      "source": [
        "**You can work out interface surface area by substracting the SASA of the individual chain from the complex SASA.**"
      ],
      "metadata": {
        "id": "yf1p1BnOrdHk"
      }
    },
    {
      "cell_type": "code",
      "source": [
        "def calculate_sasa(structure: Structure) -> dict[str, float]:\n",
        "    \"\"\" Calculate solvent accessable surface area (SASA) using Shrake-Rupley algorithm of each chain in complex\n",
        "    Args:\n",
        "        structure: biopython structure object of protein\n",
        "    Returns:\n",
        "        Dictionary of results, key Chain, value SASA (A^2)\n",
        "    \"\"\"\n",
        "    sr = ShrakeRupley()\n",
        "    sr.compute(structure, level=\"C\")\n",
        "    sasa_dict = {}  # chain_id : sasa\n",
        "    for chain in structure.get_chains():\n",
        "        n_res = len(list(chain.get_residues()))\n",
        "        sasa_dict[chain.id] = chain.sasa\n",
        "        print(f\"Chain {chain.id} ({n_res} residues), with overall SASA {int(chain.sasa)} A^2\")\n",
        "    return sasa_dict\n",
        "\n",
        "print('Complex SASA:')\n",
        "complex_sasa_dict = calculate_sasa(no_water_structure)"
      ],
      "metadata": {
        "id": "-D7CP1BYcgfH"
      },
      "execution_count": null,
      "outputs": []
    },
    {
      "cell_type": "markdown",
      "source": [
        "**Calculate solvent accessable surface area (SASA) using Shrake-Rupley algorithm of one of the chains separately (ie not in complex)**"
      ],
      "metadata": {
        "id": "p6CGp1E-Fb5i"
      }
    },
    {
      "cell_type": "code",
      "source": [
        "one_chain = 'C' # pick one of the two chains\n",
        "one_chain_fname = chain_remover(structure, one_chain)\n",
        "single_chain_structure = read_structure(one_chain_fname)\n",
        "print('Non Complex SASA:')\n",
        "sasa_dict = calculate_sasa(single_chain_structure)"
      ],
      "metadata": {
        "id": "HLzMq838cpPA"
      },
      "execution_count": null,
      "outputs": []
    },
    {
      "cell_type": "code",
      "source": [
        "print(f'Interface surface area is {round(sasa_dict[one_chain] - complex_sasa_dict[one_chain], 2)} A^2')"
      ],
      "metadata": {
        "id": "vnB6P0RneL2e"
      },
      "execution_count": null,
      "outputs": []
    },
    {
      "cell_type": "markdown",
      "source": [
        "## Self-guided exercises\n",
        "\n",
        "Try calculating a few more metrics yourself:\n",
        "1. Recalculate the interface area of CRBN-IKZF2 complex but without the glue.\n",
        "2. Try the above with another molecular glue/PROTAC PDB\n",
        "3. A contact map between the two proteins or the two proteins and the molecular glue\n",
        "4. Count the number of hydrogen bonds\n",
        "\n",
        "Clues for how to do it can be found in the documentation of Biopython."
      ],
      "metadata": {
        "id": "MBC0PN67Fc3Y"
      }
    },
    {
      "cell_type": "code",
      "source": [],
      "metadata": {
        "id": "S-P6n_zDB2iq"
      },
      "execution_count": null,
      "outputs": []
    },
    {
      "cell_type": "code",
      "source": [],
      "metadata": {
        "id": "gYby9qUhxsAJ"
      },
      "execution_count": null,
      "outputs": []
    }
  ]
}
